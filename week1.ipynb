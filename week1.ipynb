{
  "nbformat": 4,
  "nbformat_minor": 0,
  "metadata": {
    "colab": {
      "name": "Untitled4.ipynb",
      "provenance": [],
      "collapsed_sections": [],
      "toc_visible": true
    },
    "kernelspec": {
      "name": "python3",
      "display_name": "Python 3"
    },
    "language_info": {
      "name": "python"
    }
  },
  "cells": [
    {
      "cell_type": "code",
      "execution_count": null,
      "metadata": {
        "id": "xsFmafe8LrEw"
      },
      "outputs": [],
      "source": []
    },
    {
      "cell_type": "markdown",
      "source": [
        "**Section A: Fundamentals of Python**"
      ],
      "metadata": {
        "id": "r1NxedagMJJG"
      }
    },
    {
      "cell_type": "code",
      "source": [
        "#1\n",
        "print(\"Hello Python\")"
      ],
      "metadata": {
        "colab": {
          "base_uri": "https://localhost:8080/"
        },
        "id": "wYzfnoF6MNph",
        "outputId": "84af37cf-d9bf-406b-80f3-c5bac60297b1"
      },
      "execution_count": null,
      "outputs": [
        {
          "output_type": "stream",
          "name": "stdout",
          "text": [
            "Hello Python\n"
          ]
        }
      ]
    },
    {
      "cell_type": "code",
      "source": [
        "#2\n",
        "a=int(input(\"Enter the number:-\"))\n",
        "b=int(input(\"Emter the number:-\"))\n",
        "print(a+b)\n",
        "print(a/b)"
      ],
      "metadata": {
        "colab": {
          "base_uri": "https://localhost:8080/"
        },
        "id": "BILu_ql8Mo_F",
        "outputId": "77859a92-48a2-4cf5-eabb-9e8eadc8ec09"
      },
      "execution_count": null,
      "outputs": [
        {
          "output_type": "stream",
          "name": "stdout",
          "text": [
            "Enter the number:-5\n",
            "Emter the number:-6\n",
            "11\n",
            "0.8333333333333334\n"
          ]
        }
      ]
    },
    {
      "cell_type": "code",
      "source": [
        "#3\n",
        "a=int(input(\"Enter the base:-\"))\n",
        "b=int(input(\"Enter the height:-\"))\n",
        "c= 0.5*a*b\n",
        "print(\"Area=\",c)"
      ],
      "metadata": {
        "colab": {
          "base_uri": "https://localhost:8080/"
        },
        "id": "YBOKLaykNbrI",
        "outputId": "9260744e-9904-4458-9f71-149c07f80bf7"
      },
      "execution_count": null,
      "outputs": [
        {
          "output_type": "stream",
          "name": "stdout",
          "text": [
            "Enter the base:-4\n",
            "Enter the height:-5\n",
            "Area= 10.0\n"
          ]
        }
      ]
    },
    {
      "cell_type": "code",
      "source": [
        "#4\n",
        "p=75\n",
        "q=1000\n",
        "p,q=p,q\n",
        "print(\"p=\",p)\n",
        "print(\"q=\",q)"
      ],
      "metadata": {
        "colab": {
          "base_uri": "https://localhost:8080/"
        },
        "id": "VrHuGWmKOT9e",
        "outputId": "ddc84bdb-a203-4f44-cd25-7865db6f337c"
      },
      "execution_count": null,
      "outputs": [
        {
          "output_type": "stream",
          "name": "stdout",
          "text": [
            "p= 75\n",
            "q= 1000\n"
          ]
        }
      ]
    },
    {
      "cell_type": "code",
      "source": [
        "#5\n",
        "import random \n",
        "random_number= random.randint(5000,10000)\n",
        "print(random_number)"
      ],
      "metadata": {
        "colab": {
          "base_uri": "https://localhost:8080/"
        },
        "id": "wcelfXQZQOr1",
        "outputId": "416743f7-8731-4b77-eb58-e7921b8e064f"
      },
      "execution_count": null,
      "outputs": [
        {
          "output_type": "stream",
          "name": "stdout",
          "text": [
            "6100\n"
          ]
        }
      ]
    },
    {
      "cell_type": "markdown",
      "source": [
        "**Section B:**"
      ],
      "metadata": {
        "id": "UfZatccHRBza"
      }
    },
    {
      "cell_type": "code",
      "source": [
        "#1\n",
        "a=int(input(\"Enter the valun in km:-\"))\n",
        "b=a/1.6\n",
        "print(\"miles=\",b)"
      ],
      "metadata": {
        "colab": {
          "base_uri": "https://localhost:8080/"
        },
        "id": "7EXkncZCRE34",
        "outputId": "b2ec529d-91e5-4f18-f238-a9b25d1c28cd"
      },
      "execution_count": null,
      "outputs": [
        {
          "output_type": "stream",
          "name": "stdout",
          "text": [
            "Enter the valun in km:-1600\n",
            "miles= 1000.0\n"
          ]
        }
      ]
    },
    {
      "cell_type": "code",
      "source": [
        "#2\n",
        "c=int(input(\"Enter the value in celsius=\"))\n",
        "d=c*1.8+32\n",
        "print(\"Fahrenheit=\",d)"
      ],
      "metadata": {
        "colab": {
          "base_uri": "https://localhost:8080/"
        },
        "id": "wJ0oGOFZSu7I",
        "outputId": "d96877fa-aac7-47dd-c1aa-c9a945d6e57c"
      },
      "execution_count": null,
      "outputs": [
        {
          "output_type": "stream",
          "name": "stdout",
          "text": [
            "Enter the value in celsius=45\n",
            "Fahrenheit= 113.0\n"
          ]
        }
      ]
    },
    {
      "cell_type": "code",
      "source": [
        "#3\n",
        "import calendar\n",
        "yy=2030\n",
        "mm=3\n",
        "print(calendar.month(yy,mm))\n",
        "\n"
      ],
      "metadata": {
        "colab": {
          "base_uri": "https://localhost:8080/"
        },
        "id": "3foAX97ETk1c",
        "outputId": "771c83e8-3c0a-45ac-d604-7a13f69ad80d"
      },
      "execution_count": null,
      "outputs": [
        {
          "output_type": "stream",
          "name": "stdout",
          "text": [
            "     March 2030\n",
            "Mo Tu We Th Fr Sa Su\n",
            "             1  2  3\n",
            " 4  5  6  7  8  9 10\n",
            "11 12 13 14 15 16 17\n",
            "18 19 20 21 22 23 24\n",
            "25 26 27 28 29 30 31\n",
            "\n"
          ]
        }
      ]
    },
    {
      "cell_type": "code",
      "source": [
        "#4\n",
        "import cmath \n",
        "a=int(input(\"Enter the value a:-\"))\n",
        "b=int(input(\"Enter the value b:-\"))\n",
        "c=int(input(\"Enter the value c:-\"))\n",
        "p=(b**2)-(4*a*c)\n",
        "solution1=f (-b+cmath.sqrt(p))/(2*a)\n",
        "print(p)\n",
        "print(solution1)"
      ],
      "metadata": {
        "colab": {
          "base_uri": "https://localhost:8080/"
        },
        "id": "aTxjYGhcVF6U",
        "outputId": "3925f878-6f8c-4e62-8539-9d0d18646e54"
      },
      "execution_count": null,
      "outputs": [
        {
          "output_type": "stream",
          "name": "stdout",
          "text": [
            "Enter the value a:-1\n",
            "Enter the value b:-4\n",
            "Enter the value c:-5\n",
            "-4\n",
            "(-2+1j)\n"
          ]
        }
      ]
    },
    {
      "cell_type": "code",
      "source": [
        "#5 Write a Python program to swap two variables without temp variable\n",
        "g=int(input(\"Enter the number =\"))\n",
        "h=int(input(\"Enter the number = \"))\n",
        "g,h=h,g\n",
        "print(\"g=\",g)\n",
        "print(\"h=\",h)\n"
      ],
      "metadata": {
        "id": "Ehb6e4laSKai",
        "colab": {
          "base_uri": "https://localhost:8080/"
        },
        "outputId": "d5bcd22f-1612-4644-f499-dea2bc08ce62"
      },
      "execution_count": 2,
      "outputs": [
        {
          "output_type": "stream",
          "name": "stdout",
          "text": [
            "Enter the number =8\n",
            "Enter the number = 9\n",
            "g= 9\n",
            "h= 8\n"
          ]
        }
      ]
    },
    {
      "cell_type": "markdown",
      "source": [
        "Section C:"
      ],
      "metadata": {
        "id": "5EXC5Iy-Y6kK"
      }
    },
    {
      "cell_type": "code",
      "source": [
        "#1 Write a Python Program to Check if a Number is Positive, Negative or Zero\n",
        "a = float(input(\"Enter a number: \"))\n",
        "if a > 0:\n",
        "   print(\"Positive number\")\n",
        "elif a == 0:\n",
        "   print(\"Zero\")\n",
        "else:\n",
        "   print(\"Negative number\")"
      ],
      "metadata": {
        "id": "W9BLihCTZAa4"
      },
      "execution_count": null,
      "outputs": []
    },
    {
      "cell_type": "code",
      "source": [
        "#2 Write a Python Program to Check if a Number is Odd or Even\n",
        "number=int(input(\"Enter the number =\"))\n",
        "if (number % 2) ==0:\n",
        "  print(\"Number is even \")\n",
        "else:\n",
        "  print(\"Number is odd\")\n"
      ],
      "metadata": {
        "id": "RXuDAemwZIcz"
      },
      "execution_count": null,
      "outputs": []
    },
    {
      "cell_type": "code",
      "source": [
        "#3 Write a Python Program to Check Leap Year\n",
        "year = int(input(\"Enter tha year = \"))\n",
        "if (year % 400==0)and(year % 100==0):\n",
        "  print(\"{0}is a leap year \".format(year))\n",
        "elif (year % 4==0)and(year % 100 != 0):\n",
        "  print(\"{0}is a leap year \".format(year))\n",
        "else:\n",
        "  print(\"{0} is not a leap year \".format(year))"
      ],
      "metadata": {
        "id": "f0zdhUFFZKjB"
      },
      "execution_count": null,
      "outputs": []
    },
    {
      "cell_type": "code",
      "source": [
        "#4 Write a Python Program to Check Prime Number?\n",
        "num = int(input(\"Enter the number = \"))\n",
        "f = False\n",
        "if num > 1:\n",
        "  for i in range(2,num):\n",
        "    if (num % i)== 0:\n",
        "      f = True\n",
        "      break\n",
        "\n",
        "if f:\n",
        "  print(num,\"is not a prime number\")\n",
        "else:\n",
        "  print(num,\"is a prime number\")"
      ],
      "metadata": {
        "id": "0ehsNwYwZODV"
      },
      "execution_count": null,
      "outputs": []
    },
    {
      "cell_type": "code",
      "source": [
        "#5 Write a Python Program to Print all Prime Numbers in an Interval of 1-10000?\n",
        "def prime(x, y):\n",
        "    prime_list = []\n",
        "    for i in range(x, y):\n",
        "        if i == 0 or i == 1:\n",
        "            continue\n",
        "        else:\n",
        "            for j in range(2, int(i/2)+1):\n",
        "                if i % j == 0:\n",
        "                    break\n",
        "            else:\n",
        "                prime_list.append(i)\n",
        "    return prime_list\n",
        " \n",
        "starting_range = 1\n",
        "ending_range = 10000\n",
        "lst = prime(starting_range, ending_range)\n",
        "if len(lst) == 0:\n",
        "    print(\"There are no prime numbers in this range\")\n",
        "else:\n",
        "    print(\"The prime numbers in this range are: \", lst)"
      ],
      "metadata": {
        "id": "0skNNspgZRuw"
      },
      "execution_count": null,
      "outputs": []
    },
    {
      "cell_type": "markdown",
      "source": [
        "Section D:"
      ],
      "metadata": {
        "id": "4QOatszKZVKL"
      }
    },
    {
      "cell_type": "code",
      "source": [
        "#1 Write a Python Program to Find the Factorial of a Number\n",
        "num = int(input(\"Enter the number = \"))\n",
        "factorial = 1\n",
        "if num < 0:\n",
        "  print(\"there is no factorial of negative number\")\n",
        "elif num== 0:\n",
        "  print(\"the factorial of 0 is 1\")\n",
        "else:\n",
        "  for i in range (1,num+1):\n",
        "    factorial = factorial*i\n",
        "  print(\"The factorial of\",num,\"is\",factorial)"
      ],
      "metadata": {
        "id": "Rpfj431eZXeK"
      },
      "execution_count": null,
      "outputs": []
    },
    {
      "cell_type": "code",
      "source": [
        "#2 Write a Python Program to Display the multiplication Table\n",
        "a = int(input(\"Enter the number = \"))\n",
        "for i in range (1,11):\n",
        "  print(a,'x',i,'=',num*i)\n"
      ],
      "metadata": {
        "id": "pISHPCxCZafV"
      },
      "execution_count": null,
      "outputs": []
    },
    {
      "cell_type": "code",
      "source": [
        "#3 Write a Python Program to Print the Fibonacci sequence\n",
        "def fib(n):\n",
        "    a = 0\n",
        "    b = 1\n",
        "    if n == 1:\n",
        "        print(a)\n",
        "    else:\n",
        "        print(a)\n",
        "        print(b)\n",
        "        for i in range(2,n):\n",
        "            c = a + b\n",
        "            a = b\n",
        "            b = c\n",
        "            print(c)\n",
        "fib(10)"
      ],
      "metadata": {
        "id": "lfzlTT-vZc8Z"
      },
      "execution_count": null,
      "outputs": []
    },
    {
      "cell_type": "code",
      "source": [
        "#4 Write a Python Program to Check Armstrong Number\n",
        "\n",
        "n = int(input(\"Enter a number: \"))\n",
        "s = 0\n",
        "t = n\n",
        "while t > 0:\n",
        "  digit = t % 10\n",
        "  s += digit ** 3\n",
        "  t //= 10\n",
        "if n == s:\n",
        "  print(n,\"is an Armstrong number\")\n",
        "else:\n",
        "  print(n,\"is not an Armstrong number\")"
      ],
      "metadata": {
        "id": "Bz4JM9xUZh1J"
      },
      "execution_count": null,
      "outputs": []
    },
    {
      "cell_type": "code",
      "source": [
        "#5 Write a Python Program to Find Armstrong Number in an Interval\n",
        "\n",
        "lower = 100\n",
        "upper = 2000\n",
        "\n",
        "for num in range(lower, upper + 1):\n",
        "\n",
        "   \n",
        "   order = len(str(num))\n",
        "    \n",
        "  \n",
        "   sum = 0\n",
        "\n",
        "   temp = num\n",
        "   while temp > 0:\n",
        "       digit = temp % 10\n",
        "       sum += digit ** order\n",
        "       temp //= 10\n",
        "\n",
        "   if num == sum:\n",
        "       print(num)"
      ],
      "metadata": {
        "id": "t-AfOVKfZvcw"
      },
      "execution_count": null,
      "outputs": []
    },
    {
      "cell_type": "code",
      "source": [
        "#6 Write a Python Program to Find the Sum of Natural Numbers\n",
        "\n",
        "\n",
        "number = int(input(\"Enter the number = \"))\n",
        "\n",
        "if number < 0:\n",
        "   print(\"Enter a positive number\")\n",
        "else:\n",
        "   sum = 0\n",
        "   # use while loop to iterate until zero\n",
        "   while(number > 0):\n",
        "       sum += number\n",
        "       number -= 1\n",
        "   print(\"The sum is\", sum)"
      ],
      "metadata": {
        "id": "lzb-jaCNZ3XF"
      },
      "execution_count": null,
      "outputs": []
    },
    {
      "cell_type": "markdown",
      "source": [
        "Section E:"
      ],
      "metadata": {
        "id": "8snsC6lzZ5jp"
      }
    },
    {
      "cell_type": "code",
      "source": [
        "#1 Write a Python Program to find sum of array?\n",
        "a = [1, 2, 3, 4, 5, 6, 7,8,9,10,11,12]\n",
        "sum = 0\n",
        "\n",
        "for i in range (len(a)):\n",
        "  sum = sum + a[i]\n",
        "print(sum)"
      ],
      "metadata": {
        "id": "wJo5_s0SZ8bj"
      },
      "execution_count": null,
      "outputs": []
    },
    {
      "cell_type": "code",
      "source": [
        "#2 Write a Python Program to find largest element in an array?\n",
        "def fun(array, n):\n",
        "    array.sort()\n",
        "    return array[n-1]\n",
        " \n",
        "arr = [10,15,16,88,99,95,998,65985]\n",
        "n = len(arr)\n",
        "Ans = fun(arr, n)\n",
        "print(\"Largest in given array \", Ans)"
      ],
      "metadata": {
        "id": "HKDI15JeaBPX"
      },
      "execution_count": null,
      "outputs": []
    },
    {
      "cell_type": "code",
      "source": [
        "#3 Write a Python Program for array rotation\n",
        "def rotateArray(arr, n, d):\n",
        "    temp = []\n",
        "    i = 0\n",
        "    while (i < d):\n",
        "        temp.append(arr[i])\n",
        "        i = i + 1\n",
        "    i = 0\n",
        "    while (d < n):\n",
        "        arr[i] = arr[d]\n",
        "        i = i + 1\n",
        "        d = d + 1\n",
        "    arr[:] = arr[: i] + temp\n",
        "    return arr\n",
        "\n",
        "arr = [1,2,5,9,8,4,7,6,3,1,5]\n",
        "print(\"Array after left rotation is: \", end=' ')\n",
        "print(rotateArray(arr, len(arr), 2))"
      ],
      "metadata": {
        "id": "1tcJHKi_aF71"
      },
      "execution_count": null,
      "outputs": []
    },
    {
      "cell_type": "code",
      "source": [
        "#4 Write a Python Program to Split the array and add the first part to the end\n",
        "def splitArr(arr, n, k): \n",
        "    for i in range(0, k): \n",
        "        x = arr[0]\n",
        "        for j in range(0, n-1):\n",
        "            arr[j] = arr[j + 1]\n",
        "          \n",
        "        arr[n-1] = x\n",
        "\n",
        "arr = [1,4,5,6,48,9,4]\n",
        "n = len(arr)\n",
        "position = 5\n",
        "  \n",
        "splitArr(arr, n, position)\n",
        "  \n",
        "for i in range(0, n): \n",
        "    print(arr[i], end = ' ')"
      ],
      "metadata": {
        "id": "Pgc9bqi_aK-6"
      },
      "execution_count": null,
      "outputs": []
    },
    {
      "cell_type": "code",
      "source": [
        "#5 Write a Python Program to check if given array is Monotonic\n",
        "def Monotonic(A):\n",
        "  \n",
        "    return (all(A[i] <= A[i + 1] for i in range(len(A) - 1)) or\n",
        "            all(A[i] >= A[i + 1] for i in range(len(A) - 1)))\n",
        "  \n",
        "A = [6,6,9,8,4,5,6,3,2,4,7]\n",
        "  \n",
        "print(Monotonic(A))"
      ],
      "metadata": {
        "id": "AlcmpsItaOfc"
      },
      "execution_count": null,
      "outputs": []
    },
    {
      "cell_type": "code",
      "source": [
        "#1 Write a Python program to find sum of elements in list\n",
        "num = [1, 2, 3, 4, 5]\n",
        "total = 0\n",
        "for x in num:\n",
        "    total += x\n",
        "\n",
        "print(total)\n"
      ],
      "metadata": {
        "colab": {
          "base_uri": "https://localhost:8080/"
        },
        "id": "HHemxr71aUpv",
        "outputId": "cf393917-a04e-49a0-8261-a9d62bc591ba"
      },
      "execution_count": 3,
      "outputs": [
        {
          "output_type": "stream",
          "name": "stdout",
          "text": [
            "15\n"
          ]
        }
      ]
    },
    {
      "cell_type": "code",
      "source": [
        "#2 Write a Python program to Multiply all numbers in the list\n",
        "def multiply(numbers):  \n",
        "    total = 1\n",
        "    for n in numbers:\n",
        "        total *= n  \n",
        "    return total  \n",
        "print(multiply((1, 2, 3, 5, 6,7)))"
      ],
      "metadata": {
        "id": "_llrOkMxaY3l"
      },
      "execution_count": null,
      "outputs": []
    },
    {
      "cell_type": "code",
      "source": [
        "#3 Write a Python program to find smallest number in a list\n",
        "a = [10, 50, 60, 80, 20, 15]\n",
        "\n",
        "print(\"The Smallest Element in this List is : \", min(a))\n"
      ],
      "metadata": {
        "id": "HHm6D0xIae4r"
      },
      "execution_count": null,
      "outputs": []
    },
    {
      "cell_type": "code",
      "source": [
        "#4 Write a Python program to find largest number in a list\n",
        "lis = [1, 10, 40, 36, 16]\n",
        "lis.sort()\n",
        "print(\"Largest number in the list is:\", lis[-1])\n"
      ],
      "metadata": {
        "id": "dlKrx2vTajt5"
      },
      "execution_count": null,
      "outputs": []
    },
    {
      "cell_type": "code",
      "source": [
        "#5 Write a Python program to find second largest number in a list\n",
        "def second_largest(list):\n",
        "    list.sort()\n",
        "    return list[-2]\n",
        "\n",
        "\n",
        "li=[]\n",
        "n=int(input(\"Enter size of list \"))\n",
        "for i in range(0,n):\n",
        "    e=int(input(\"Enter element of list \"))\n",
        "    li.append(e)\n",
        "\n",
        "\n",
        "print(\"second largest in \",li,\"is\")\n",
        "print(second_largest(li))"
      ],
      "metadata": {
        "id": "XqN3lpLRanK7"
      },
      "execution_count": null,
      "outputs": []
    },
    {
      "cell_type": "code",
      "source": [
        "#6 Write a Python program to find N largest elements from a list\n",
        "def LargestFunc(list1, N):\n",
        "\tnew_list = []\n",
        "\tfor i in range(0, N):\n",
        "\t\tmax1 = 0\n",
        "\t\tfor j in range(len(list1)):\n",
        "\t\t\tif list1[j] > max1:\n",
        "\t\t\t\tmax1 = list1[j];\n",
        "\t\t\t\n",
        "\t\tlist1.remove(max1);\n",
        "\t\tnew_list.append(max1)\n",
        "\tprint(\"Largest numbers = \",new_list)\n",
        "\n",
        "\n",
        "\n",
        "my_list = [12, 61, 41, 85, 40, 13, 77, 65, 100]\n",
        "N = 4\n",
        "\n",
        "LargestFunc(my_list, N)\n"
      ],
      "metadata": {
        "colab": {
          "base_uri": "https://localhost:8080/"
        },
        "id": "McC3-4t_aqjy",
        "outputId": "afd39b96-4e52-45bb-b183-92983cc31413"
      },
      "execution_count": 4,
      "outputs": [
        {
          "output_type": "stream",
          "name": "stdout",
          "text": [
            "Largest numbers =  [100, 85, 77, 65]\n"
          ]
        }
      ]
    },
    {
      "cell_type": "code",
      "source": [
        "#7 Write a Python program to print even numbers in a list\n",
        "list1 = [11, 23, 45, 23, 64, 22, 11, 24]\n",
        "\n",
        "\n",
        "for num in list1:\n",
        "    \n",
        "    if num % 2 == 0:\n",
        "        print(num, end=\" \")"
      ],
      "metadata": {
        "id": "NGBgYVPFa3SO"
      },
      "execution_count": null,
      "outputs": []
    },
    {
      "cell_type": "code",
      "source": [
        "#8 Write a Python program to print odd numbers in a List?\n",
        "def odd(list):\n",
        "    new_list=[]\n",
        "    for i in list:\n",
        "        if i%2!=0:               \n",
        "            new_list.append(i)\n",
        "    return new_list\n",
        "\n",
        "\n",
        "li=[]\n",
        "n=int(input(\"Enter size of list \"))\n",
        "for i in range(0,n):\n",
        "    e=int(input(\"Enter element of list \"))\n",
        "    li.append(e)\n",
        "\n",
        "print(\"Odd numbers in \",li)\n",
        "print(odd(li))"
      ],
      "metadata": {
        "id": "GJIAQVkJa50-"
      },
      "execution_count": null,
      "outputs": []
    },
    {
      "cell_type": "code",
      "source": [
        "#9 Write a Python program to Remove empty List from List\n",
        "myList = [1, [], 2, 3, [], 4, 5, [], [], 9]\n",
        "\n",
        "\n",
        "print(\"The original list is : \" + str(myList))\n",
        "\n",
        "\n",
        "result = list(filter(None, myList))\n",
        "\n",
        "\n",
        "print (\"List after empty list removal : \" + str(result))"
      ],
      "metadata": {
        "id": "FHeJ90xPa-6Q"
      },
      "execution_count": null,
      "outputs": []
    },
    {
      "cell_type": "code",
      "source": [
        "#10 Write a Python program to Cloning or Copying a list?\n",
        "original_list = [10, 22, 44, 23, 4]\n",
        "new_list = list(original_list)\n",
        "print(original_list)\n",
        "print(new_list)"
      ],
      "metadata": {
        "id": "Fj_2A1AKbBZ1"
      },
      "execution_count": null,
      "outputs": []
    },
    {
      "cell_type": "code",
      "source": [
        "#11 Write a Python program to Count occurrences of an element in a list?\n",
        "def count_occurrence(list, n):\n",
        "    \n",
        "\n",
        "    count=0\n",
        "    for i in list:\n",
        "        if(i==n):\n",
        "          \n",
        "            count=count+1\n",
        "    return count\n",
        "\n",
        "\n",
        "li=[]\n",
        "n=int(input(\"Enter size of list \"))\n",
        "for i in range(0,n):\n",
        "    e=int(input(\"Enter element of list \"))\n",
        "    li.append(e)\n",
        "print(\"Original list: \",li)\n",
        "\n",
        "x=int(input(\"Enter element to be checked list: \"))\n",
        "\n",
        "\n",
        "print(x,\" has occurred \",count_occurrence(li, x),\"times\")"
      ],
      "metadata": {
        "colab": {
          "base_uri": "https://localhost:8080/",
          "height": 502
        },
        "id": "1Nge15IFbEdq",
        "outputId": "2a342fd0-bee1-4d9f-8158-e1f507247dfd"
      },
      "execution_count": 5,
      "outputs": [
        {
          "name": "stdout",
          "output_type": "stream",
          "text": [
            "Enter size of list 64\n",
            "Enter element of list 44\n",
            "Enter element of list 44\n",
            "Enter element of list 44\n",
            "Enter element of list 12\n",
            "Enter element of list 12\n"
          ]
        },
        {
          "output_type": "error",
          "ename": "KeyboardInterrupt",
          "evalue": "ignored",
          "traceback": [
            "\u001b[0;31m---------------------------------------------------------------------------\u001b[0m",
            "\u001b[0;31mKeyboardInterrupt\u001b[0m                         Traceback (most recent call last)",
            "\u001b[0;32m<ipython-input-5-5a8818bee240>\u001b[0m in \u001b[0;36m<module>\u001b[0;34m\u001b[0m\n\u001b[1;32m     14\u001b[0m \u001b[0mn\u001b[0m\u001b[0;34m=\u001b[0m\u001b[0mint\u001b[0m\u001b[0;34m(\u001b[0m\u001b[0minput\u001b[0m\u001b[0;34m(\u001b[0m\u001b[0;34m\"Enter size of list \"\u001b[0m\u001b[0;34m)\u001b[0m\u001b[0;34m)\u001b[0m\u001b[0;34m\u001b[0m\u001b[0;34m\u001b[0m\u001b[0m\n\u001b[1;32m     15\u001b[0m \u001b[0;32mfor\u001b[0m \u001b[0mi\u001b[0m \u001b[0;32min\u001b[0m \u001b[0mrange\u001b[0m\u001b[0;34m(\u001b[0m\u001b[0;36m0\u001b[0m\u001b[0;34m,\u001b[0m\u001b[0mn\u001b[0m\u001b[0;34m)\u001b[0m\u001b[0;34m:\u001b[0m\u001b[0;34m\u001b[0m\u001b[0;34m\u001b[0m\u001b[0m\n\u001b[0;32m---> 16\u001b[0;31m     \u001b[0me\u001b[0m\u001b[0;34m=\u001b[0m\u001b[0mint\u001b[0m\u001b[0;34m(\u001b[0m\u001b[0minput\u001b[0m\u001b[0;34m(\u001b[0m\u001b[0;34m\"Enter element of list \"\u001b[0m\u001b[0;34m)\u001b[0m\u001b[0;34m)\u001b[0m\u001b[0;34m\u001b[0m\u001b[0;34m\u001b[0m\u001b[0m\n\u001b[0m\u001b[1;32m     17\u001b[0m     \u001b[0mli\u001b[0m\u001b[0;34m.\u001b[0m\u001b[0mappend\u001b[0m\u001b[0;34m(\u001b[0m\u001b[0me\u001b[0m\u001b[0;34m)\u001b[0m\u001b[0;34m\u001b[0m\u001b[0;34m\u001b[0m\u001b[0m\n\u001b[1;32m     18\u001b[0m \u001b[0mprint\u001b[0m\u001b[0;34m(\u001b[0m\u001b[0;34m\"Original list: \"\u001b[0m\u001b[0;34m,\u001b[0m\u001b[0mli\u001b[0m\u001b[0;34m)\u001b[0m\u001b[0;34m\u001b[0m\u001b[0;34m\u001b[0m\u001b[0m\n",
            "\u001b[0;32m/usr/local/lib/python3.7/dist-packages/ipykernel/kernelbase.py\u001b[0m in \u001b[0;36mraw_input\u001b[0;34m(self, prompt)\u001b[0m\n\u001b[1;32m    861\u001b[0m             \u001b[0mself\u001b[0m\u001b[0;34m.\u001b[0m\u001b[0m_parent_ident\u001b[0m\u001b[0;34m,\u001b[0m\u001b[0;34m\u001b[0m\u001b[0;34m\u001b[0m\u001b[0m\n\u001b[1;32m    862\u001b[0m             \u001b[0mself\u001b[0m\u001b[0;34m.\u001b[0m\u001b[0m_parent_header\u001b[0m\u001b[0;34m,\u001b[0m\u001b[0;34m\u001b[0m\u001b[0;34m\u001b[0m\u001b[0m\n\u001b[0;32m--> 863\u001b[0;31m             \u001b[0mpassword\u001b[0m\u001b[0;34m=\u001b[0m\u001b[0;32mFalse\u001b[0m\u001b[0;34m,\u001b[0m\u001b[0;34m\u001b[0m\u001b[0;34m\u001b[0m\u001b[0m\n\u001b[0m\u001b[1;32m    864\u001b[0m         )\n\u001b[1;32m    865\u001b[0m \u001b[0;34m\u001b[0m\u001b[0m\n",
            "\u001b[0;32m/usr/local/lib/python3.7/dist-packages/ipykernel/kernelbase.py\u001b[0m in \u001b[0;36m_input_request\u001b[0;34m(self, prompt, ident, parent, password)\u001b[0m\n\u001b[1;32m    902\u001b[0m             \u001b[0;32mexcept\u001b[0m \u001b[0mKeyboardInterrupt\u001b[0m\u001b[0;34m:\u001b[0m\u001b[0;34m\u001b[0m\u001b[0;34m\u001b[0m\u001b[0m\n\u001b[1;32m    903\u001b[0m                 \u001b[0;31m# re-raise KeyboardInterrupt, to truncate traceback\u001b[0m\u001b[0;34m\u001b[0m\u001b[0;34m\u001b[0m\u001b[0;34m\u001b[0m\u001b[0m\n\u001b[0;32m--> 904\u001b[0;31m                 \u001b[0;32mraise\u001b[0m \u001b[0mKeyboardInterrupt\u001b[0m\u001b[0;34m(\u001b[0m\u001b[0;34m\"Interrupted by user\"\u001b[0m\u001b[0;34m)\u001b[0m \u001b[0;32mfrom\u001b[0m \u001b[0;32mNone\u001b[0m\u001b[0;34m\u001b[0m\u001b[0;34m\u001b[0m\u001b[0m\n\u001b[0m\u001b[1;32m    905\u001b[0m             \u001b[0;32mexcept\u001b[0m \u001b[0mException\u001b[0m \u001b[0;32mas\u001b[0m \u001b[0me\u001b[0m\u001b[0;34m:\u001b[0m\u001b[0;34m\u001b[0m\u001b[0;34m\u001b[0m\u001b[0m\n\u001b[1;32m    906\u001b[0m                 \u001b[0mself\u001b[0m\u001b[0;34m.\u001b[0m\u001b[0mlog\u001b[0m\u001b[0;34m.\u001b[0m\u001b[0mwarning\u001b[0m\u001b[0;34m(\u001b[0m\u001b[0;34m\"Invalid Message:\"\u001b[0m\u001b[0;34m,\u001b[0m \u001b[0mexc_info\u001b[0m\u001b[0;34m=\u001b[0m\u001b[0;32mTrue\u001b[0m\u001b[0;34m)\u001b[0m\u001b[0;34m\u001b[0m\u001b[0;34m\u001b[0m\u001b[0m\n",
            "\u001b[0;31mKeyboardInterrupt\u001b[0m: Interrupted by user"
          ]
        }
      ]
    },
    {
      "cell_type": "code",
      "source": [],
      "metadata": {
        "id": "_jMBHB93bKOQ"
      },
      "execution_count": null,
      "outputs": []
    }
  ]
}